{
  "nbformat": 4,
  "nbformat_minor": 0,
  "metadata": {
    "colab": {
      "provenance": []
    },
    "kernelspec": {
      "name": "python3",
      "display_name": "Python 3"
    },
    "language_info": {
      "name": "python"
    }
  },
  "cells": [
    {
      "cell_type": "markdown",
      "source": [
        "### Importing requierd Libraries"
      ],
      "metadata": {
        "id": "SOfYVxW9XDoA"
      }
    },
    {
      "cell_type": "code",
      "execution_count": null,
      "metadata": {
        "id": "AAjzHwLwcWjU"
      },
      "outputs": [],
      "source": [
        "import torch\n",
        "import torchvision\n",
        "import torchvision.transforms as transforms"
      ]
    },
    {
      "cell_type": "markdown",
      "source": [
        "### Detect CUDA Availability and Set Device for Google Colab"
      ],
      "metadata": {
        "id": "MtiWrU4VXI1Y"
      }
    },
    {
      "cell_type": "code",
      "source": [
        "torch.cuda.is_available()\n",
        "device = torch.device('cuda:0' if torch.cuda.is_available() else 'cpu')\n",
        "\n",
        "# Assuming that we are on a CUDA machine, this should print a CUDA device:\n",
        "\n",
        "print(device)"
      ],
      "metadata": {
        "id": "ZtE1GhsDcdLn"
      },
      "execution_count": null,
      "outputs": []
    },
    {
      "cell_type": "code",
      "source": [
        "from google.colab import drive\n",
        "drive.mount('/content/drive')"
      ],
      "metadata": {
        "id": "_aXqdl0Oetl9",
        "colab": {
          "base_uri": "https://localhost:8080/"
        },
        "outputId": "9f5fcfae-cbdc-4da7-8468-2b00d1577d77"
      },
      "execution_count": null,
      "outputs": [
        {
          "output_type": "stream",
          "name": "stdout",
          "text": [
            "Drive already mounted at /content/drive; to attempt to forcibly remount, call drive.mount(\"/content/drive\", force_remount=True).\n"
          ]
        }
      ]
    },
    {
      "cell_type": "markdown",
      "source": [
        "### Load and Transform Image Dataset for PyTorch Classification\n",
        "\n",
        "> The dataset comprises of 7 classes and it includes images of bikes, cars, horses, cats, dogs, flowers, and humans.\n",
        "\n",
        "\n"
      ],
      "metadata": {
        "id": "hulNUWrCX5gm"
      }
    },
    {
      "cell_type": "code",
      "source": [
        "transform = transforms.Compose([\n",
        "    transforms.Resize((224,224)),\n",
        "    transforms.ToTensor(),\n",
        "    transforms.Normalize(mean=[0.485, 0.456, 0.406], std=[0.229, 0.224, 0.225])\n",
        "])\n",
        "\n",
        "dataset = torchvision.datasets.ImageFolder(root='/content/drive/MyDrive/KaggelDataset/data',transform=transform)\n",
        "\n",
        "testloader = torch.utils.data.DataLoader(dataset,shuffle=True, num_workers=2)\n"
      ],
      "metadata": {
        "id": "eDBon81xcdIP"
      },
      "execution_count": null,
      "outputs": []
    },
    {
      "cell_type": "code",
      "source": [
        "print(dataset)\n",
        "# print(trainloader)\n",
        "\n",
        "# for inputs, labels_batch in trainloader:\n",
        "#   print(\"inputs \",inputs,\"    labels_batch \",labels_batch,\"\\n\")\n",
        "\n",
        "# print(trainloader)\n"
      ],
      "metadata": {
        "colab": {
          "base_uri": "https://localhost:8080/"
        },
        "id": "cowtxMqgMR4T",
        "outputId": "f9d4ca6f-d86e-4cdb-f55e-3aa13a5c846b"
      },
      "execution_count": null,
      "outputs": [
        {
          "output_type": "stream",
          "name": "stdout",
          "text": [
            "Dataset ImageFolder\n",
            "    Number of datapoints: 1803\n",
            "    Root location: /content/drive/MyDrive/KaggelDataset/data\n",
            "    StandardTransform\n",
            "Transform: Compose(\n",
            "               Resize(size=(224, 224), interpolation=bilinear, max_size=None, antialias=True)\n",
            "               ToTensor()\n",
            "               Normalize(mean=[0.485, 0.456, 0.406], std=[0.229, 0.224, 0.225])\n",
            "           )\n"
          ]
        }
      ]
    },
    {
      "cell_type": "markdown",
      "source": [
        "###Examine AlexNet Architecture Using PyTorch Summary Tool"
      ],
      "metadata": {
        "id": "O9kMiyZCYKID"
      }
    },
    {
      "cell_type": "code",
      "source": [
        "import torchvision.models as models\n",
        "import torch.nn as nn\n",
        "from torchsummary import summary\n",
        "# Load pre-trained AlexNet\n",
        "alexnet = models.alexnet(pretrained=True)\n",
        "\n",
        "# Remove the last classification layer\n",
        "alexnet_features = nn.Sequential(*list(alexnet.classifier.children())[:-1])\n",
        "alexnet.classifier = alexnet_features\n",
        "\n",
        "# summary(alexnet_features,(3,224,224))\n",
        "summary(alexnet,(3,224,224))\n"
      ],
      "metadata": {
        "colab": {
          "base_uri": "https://localhost:8080/"
        },
        "id": "f61v_9MMcdGN",
        "outputId": "3cf49153-fdb5-47c3-c273-d3eb6921917e"
      },
      "execution_count": null,
      "outputs": [
        {
          "output_type": "stream",
          "name": "stderr",
          "text": [
            "/usr/local/lib/python3.10/dist-packages/torchvision/models/_utils.py:208: UserWarning: The parameter 'pretrained' is deprecated since 0.13 and may be removed in the future, please use 'weights' instead.\n",
            "  warnings.warn(\n",
            "/usr/local/lib/python3.10/dist-packages/torchvision/models/_utils.py:223: UserWarning: Arguments other than a weight enum or `None` for 'weights' are deprecated since 0.13 and may be removed in the future. The current behavior is equivalent to passing `weights=AlexNet_Weights.IMAGENET1K_V1`. You can also use `weights=AlexNet_Weights.DEFAULT` to get the most up-to-date weights.\n",
            "  warnings.warn(msg)\n",
            "Downloading: \"https://download.pytorch.org/models/alexnet-owt-7be5be79.pth\" to /root/.cache/torch/hub/checkpoints/alexnet-owt-7be5be79.pth\n",
            "100%|██████████| 233M/233M [00:02<00:00, 92.0MB/s]\n"
          ]
        },
        {
          "output_type": "stream",
          "name": "stdout",
          "text": [
            "----------------------------------------------------------------\n",
            "        Layer (type)               Output Shape         Param #\n",
            "================================================================\n",
            "            Conv2d-1           [-1, 64, 55, 55]          23,296\n",
            "              ReLU-2           [-1, 64, 55, 55]               0\n",
            "         MaxPool2d-3           [-1, 64, 27, 27]               0\n",
            "            Conv2d-4          [-1, 192, 27, 27]         307,392\n",
            "              ReLU-5          [-1, 192, 27, 27]               0\n",
            "         MaxPool2d-6          [-1, 192, 13, 13]               0\n",
            "            Conv2d-7          [-1, 384, 13, 13]         663,936\n",
            "              ReLU-8          [-1, 384, 13, 13]               0\n",
            "            Conv2d-9          [-1, 256, 13, 13]         884,992\n",
            "             ReLU-10          [-1, 256, 13, 13]               0\n",
            "           Conv2d-11          [-1, 256, 13, 13]         590,080\n",
            "             ReLU-12          [-1, 256, 13, 13]               0\n",
            "        MaxPool2d-13            [-1, 256, 6, 6]               0\n",
            "AdaptiveAvgPool2d-14            [-1, 256, 6, 6]               0\n",
            "          Dropout-15                 [-1, 9216]               0\n",
            "           Linear-16                 [-1, 4096]      37,752,832\n",
            "             ReLU-17                 [-1, 4096]               0\n",
            "          Dropout-18                 [-1, 4096]               0\n",
            "           Linear-19                 [-1, 4096]      16,781,312\n",
            "             ReLU-20                 [-1, 4096]               0\n",
            "================================================================\n",
            "Total params: 57,003,840\n",
            "Trainable params: 57,003,840\n",
            "Non-trainable params: 0\n",
            "----------------------------------------------------------------\n",
            "Input size (MB): 0.57\n",
            "Forward/backward pass size (MB): 8.37\n",
            "Params size (MB): 217.45\n",
            "Estimated Total Size (MB): 226.40\n",
            "----------------------------------------------------------------\n"
          ]
        }
      ]
    },
    {
      "cell_type": "markdown",
      "source": [
        "###Function for Extract features using the modified AlexNet"
      ],
      "metadata": {
        "id": "QQs11XYjYSUA"
      }
    },
    {
      "cell_type": "code",
      "source": [
        "# Extract features using the modified AlexNet\n",
        "def extract_features(model, dataloader):\n",
        "    model.eval()\n",
        "    features = []\n",
        "    labels = []\n",
        "    with torch.no_grad():\n",
        "        for inputs, labels_batch in dataloader:\n",
        "            features_batch = model(inputs)\n",
        "            features.append(features_batch.squeeze())\n",
        "            labels.append(labels_batch)\n",
        "    # features = torch.cat(features)\n",
        "    # labels = torch.cat(labels)\n",
        "    return features, labels\n",
        "\n",
        "features,labels = extract_features(alexnet, testloader)"
      ],
      "metadata": {
        "id": "Tm0-9mf2cdEC"
      },
      "execution_count": null,
      "outputs": []
    },
    {
      "cell_type": "code",
      "source": [
        "# print(features)\n",
        "print(len(features))\n",
        "# len(features[0])\n",
        "# len\n",
        "print(len(labels))"
      ],
      "metadata": {
        "id": "JSJbdvr-cdBr",
        "colab": {
          "base_uri": "https://localhost:8080/"
        },
        "outputId": "e548c020-a2db-47c6-9b75-65108018bf9e"
      },
      "execution_count": null,
      "outputs": [
        {
          "output_type": "stream",
          "name": "stdout",
          "text": [
            "1803\n",
            "1803\n"
          ]
        }
      ]
    },
    {
      "cell_type": "markdown",
      "source": [
        "###Train **Support Vector Machine** (**SVM**) Classifier on Extracted Features and Evaluate Performance"
      ],
      "metadata": {
        "id": "K6c2iKR0ZjL7"
      }
    },
    {
      "cell_type": "code",
      "source": [
        "from sklearn import svm\n",
        "from sklearn.metrics import accuracy_score\n",
        "from sklearn.model_selection import train_test_split\n",
        "\n",
        "# Step 5: Train a classifier using the extracted features\n",
        "# X_train, X_test, y_train, y_test = train_test_split(features.numpy(), labels.numpy(), test_size=0.2, random_state=42)\n",
        "X_train, X_test, y_train, y_test = train_test_split(features, labels, test_size=0.2, random_state=42)\n",
        "\n",
        "# Using SVM as the classifier\n",
        "svm_classifier = svm.SVC(kernel='linear')\n",
        "svm_classifier.fit(X_train, y_train)\n",
        "\n",
        "# Step 6: Evaluate the classifier\n",
        "y_pred = svm_classifier.predict(X_test)\n",
        "accuracy = accuracy_score(y_test, y_pred)\n",
        "print(\"Classification Accuracy:\", accuracy)\n",
        "\n",
        "from sklearn.metrics import confusion_matrix\n",
        "confusion_matrix=confusion_matrix(y_test, y_pred)\n",
        "print(confusion_matrix)\n",
        "from sklearn.metrics import ConfusionMatrixDisplay\n",
        "import matplotlib.pyplot as plt\n",
        "\n",
        "disp=ConfusionMatrixDisplay(confusion_matrix=confusion_matrix)\n",
        "disp.plot()\n",
        "plt.show()"
      ],
      "metadata": {
        "id": "qvRkf-7ncc8v",
        "colab": {
          "base_uri": "https://localhost:8080/",
          "height": 649
        },
        "outputId": "668b6c91-5832-4a3a-df9a-a630283b5c28"
      },
      "execution_count": null,
      "outputs": [
        {
          "output_type": "stream",
          "name": "stderr",
          "text": [
            "/usr/local/lib/python3.10/dist-packages/sklearn/utils/validation.py:1143: DataConversionWarning: A column-vector y was passed when a 1d array was expected. Please change the shape of y to (n_samples, ), for example using ravel().\n",
            "  y = column_or_1d(y, warn=True)\n"
          ]
        },
        {
          "output_type": "stream",
          "name": "stdout",
          "text": [
            "Classification Accuracy: 0.9695290858725761\n",
            "[[71  2  0  0  0  0  0]\n",
            " [ 2 90  0  0  0  0  0]\n",
            " [ 0  0 39  3  0  0  0]\n",
            " [ 0  0  1 33  0  0  0]\n",
            " [ 0  0  0  0 46  0  0]\n",
            " [ 0  0  0  0  0 32  1]\n",
            " [ 0  0  0  0  0  2 39]]\n"
          ]
        },
        {
          "output_type": "display_data",
          "data": {
            "text/plain": [
              "<Figure size 640x480 with 2 Axes>"
            ],
            "image/png": "[encoded data removed]"
          },
          "metadata": {}
        }
      ]
    },
    {
      "cell_type": "code",
      "source": [
        "# X_train.shape\n",
        "len(y_test)\n",
        "len(y_pred)"
      ],
      "metadata": {
        "id": "I46bfUOTcc6Z",
        "colab": {
          "base_uri": "https://localhost:8080/"
        },
        "outputId": "89ae1153-8828-4f9b-ea4b-4d1ab5421fd0"
      },
      "execution_count": null,
      "outputs": [
        {
          "output_type": "execute_result",
          "data": {
            "text/plain": [
              "361"
            ]
          },
          "metadata": {},
          "execution_count": 14
        }
      ]
    },
    {
      "cell_type": "markdown",
      "source": [
        "###Train **Logistic Regression** Classifier on Extracted Features and Evaluate Performance"
      ],
      "metadata": {
        "id": "i8ZOFHRlZ0JF"
      }
    },
    {
      "cell_type": "code",
      "source": [
        "from sklearn.linear_model import LogisticRegression\n",
        "from sklearn.metrics import accuracy_score, confusion_matrix, ConfusionMatrixDisplay\n",
        "import matplotlib.pyplot as plt\n",
        "from sklearn.model_selection import train_test_split\n",
        "\n",
        "# Step 5: Train a classifier using the extracted features\n",
        "# X_train, X_test, y_train, y_test = train_test_split(features.numpy(), labels.numpy(), test_size=0.2, random_state=42)\n",
        "X_train, X_test, y_train, y_test = train_test_split(features, labels, test_size=0.2, random_state=42)\n",
        "\n",
        "# Using Logistic Regression as the classifier\n",
        "logistic_classifier = LogisticRegression()\n",
        "logistic_classifier.fit(X_train, y_train)\n",
        "\n",
        "# Step 6: Evaluate the classifier\n",
        "y_pred = logistic_classifier.predict(X_test)\n",
        "accuracy = accuracy_score(y_test, y_pred)\n",
        "print(\"Classification Accuracy:\", accuracy)\n",
        "\n",
        "confusion_matrix_result = confusion_matrix(y_test, y_pred)\n",
        "print(confusion_matrix_result)\n",
        "\n",
        "# Display confusion matrix\n",
        "disp = ConfusionMatrixDisplay(confusion_matrix=confusion_matrix_result)\n",
        "disp.plot()\n",
        "plt.show()\n"
      ],
      "metadata": {
        "id": "eKq3KhRBUaLh",
        "colab": {
          "base_uri": "https://localhost:8080/",
          "height": 781
        },
        "outputId": "4a713f4b-0e14-421f-a771-da324852d360"
      },
      "execution_count": null,
      "outputs": [
        {
          "output_type": "stream",
          "name": "stderr",
          "text": [
            "/usr/local/lib/python3.10/dist-packages/sklearn/utils/validation.py:1143: DataConversionWarning: A column-vector y was passed when a 1d array was expected. Please change the shape of y to (n_samples, ), for example using ravel().\n",
            "  y = column_or_1d(y, warn=True)\n",
            "/usr/local/lib/python3.10/dist-packages/sklearn/linear_model/_logistic.py:458: ConvergenceWarning: lbfgs failed to converge (status=1):\n",
            "STOP: TOTAL NO. of ITERATIONS REACHED LIMIT.\n",
            "\n",
            "Increase the number of iterations (max_iter) or scale the data as shown in:\n",
            "    https://scikit-learn.org/stable/modules/preprocessing.html\n",
            "Please also refer to the documentation for alternative solver options:\n",
            "    https://scikit-learn.org/stable/modules/linear_model.html#logistic-regression\n",
            "  n_iter_i = _check_optimize_result(\n"
          ]
        },
        {
          "output_type": "stream",
          "name": "stdout",
          "text": [
            "Classification Accuracy: 0.9722991689750693\n",
            "[[70  3  0  0  0  0  0]\n",
            " [ 0 92  0  0  0  0  0]\n",
            " [ 0  0 39  2  1  0  0]\n",
            " [ 0  0  1 32  0  1  0]\n",
            " [ 0  0  0  0 46  0  0]\n",
            " [ 0  0  0  0  0 33  0]\n",
            " [ 0  0  0  0  0  2 39]]\n"
          ]
        },
        {
          "output_type": "display_data",
          "data": {
            "text/plain": [
              "<Figure size 640x480 with 2 Axes>"
            ],
            "image/png": "[encoded data removed]"
          },
          "metadata": {}
        }
      ]
    }
  ]
}
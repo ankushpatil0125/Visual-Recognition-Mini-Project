{
  "cells": [
    {
      "cell_type": "markdown",
      "id": "bec27c82",
      "metadata": {
        "id": "bec27c82"
      },
      "source": [
        "# Sort + Faster RCNN"
      ]
    },
    {
      "cell_type": "markdown",
      "id": "64280818",
      "metadata": {
        "id": "64280818"
      },
      "source": [
        "### Importing Libraries"
      ]
    },
    {
      "cell_type": "code",
      "execution_count": null,
      "id": "768ce128",
      "metadata": {
        "id": "768ce128",
        "outputId": "a23aabea-e5f0-49a7-b4ae-543cb707472f"
      },
      "outputs": [
        {
          "name": "stderr",
          "output_type": "stream",
          "text": [
            "C:\\Users\\aakas\\anaconda3\\Lib\\site-packages\\transformers\\utils\\generic.py:441: UserWarning: torch.utils._pytree._register_pytree_node is deprecated. Please use torch.utils._pytree.register_pytree_node instead.\n",
            "  _torch_pytree._register_pytree_node(\n",
            "C:\\Users\\aakas\\anaconda3\\Lib\\site-packages\\paramiko\\transport.py:219: CryptographyDeprecationWarning: Blowfish has been deprecated\n",
            "  \"class\": algorithms.Blowfish,\n"
          ]
        }
      ],
      "source": [
        "from ultralytics import YOLO\n",
        "import cv2\n",
        "import cvzone\n",
        "import math\n",
        "from sort import *\n",
        "import os"
      ]
    },
    {
      "cell_type": "markdown",
      "id": "42113081",
      "metadata": {
        "id": "42113081"
      },
      "source": [
        "### Python Code for Real-time Car Detection and Counting with SORT Tracker\n"
      ]
    },
    {
      "cell_type": "code",
      "execution_count": null,
      "id": "c4cc4313",
      "metadata": {
        "id": "c4cc4313",
        "outputId": "f78d343b-194d-423a-cca8-abff1af87929"
      },
      "outputs": [
        {
          "name": "stderr",
          "output_type": "stream",
          "text": [
            "C:\\Users\\aakas\\anaconda3\\Lib\\site-packages\\transformers\\utils\\generic.py:441: UserWarning: torch.utils._pytree._register_pytree_node is deprecated. Please use torch.utils._pytree.register_pytree_node instead.\n",
            "  _torch_pytree._register_pytree_node(\n",
            "C:\\Users\\aakas\\anaconda3\\Lib\\site-packages\\paramiko\\transport.py:219: CryptographyDeprecationWarning: Blowfish has been deprecated\n",
            "  \"class\": algorithms.Blowfish,\n",
            "C:\\Users\\aakas\\anaconda3\\Lib\\site-packages\\torchvision\\models\\_utils.py:208: UserWarning: The parameter 'pretrained' is deprecated since 0.13 and may be removed in the future, please use 'weights' instead.\n",
            "  warnings.warn(\n",
            "C:\\Users\\aakas\\anaconda3\\Lib\\site-packages\\torchvision\\models\\_utils.py:223: UserWarning: Arguments other than a weight enum or `None` for 'weights' are deprecated since 0.13 and may be removed in the future. The current behavior is equivalent to passing `weights=FasterRCNN_ResNet50_FPN_Weights.COCO_V1`. You can also use `weights=FasterRCNN_ResNet50_FPN_Weights.DEFAULT` to get the most up-to-date weights.\n",
            "  warnings.warn(msg)\n"
          ]
        },
        {
          "name": "stdout",
          "output_type": "stream",
          "text": [
            "Total car count: 5\n"
          ]
        }
      ],
      "source": [
        "import cv2\n",
        "import torch\n",
        "import torchvision\n",
        "from torchvision.transforms import functional as F\n",
        "from PIL import Image\n",
        "import numpy as np\n",
        "from sort import Sort\n",
        "\n",
        "# Load the COCO instance segmentation model\n",
        "model = torchvision.models.detection.fasterrcnn_resnet50_fpn(pretrained=True)\n",
        "model.eval()\n",
        "\n",
        "# Define the COCO instance category names\n",
        "COCO_INSTANCE_CATEGORY_NAMES = [\n",
        "    '_background_', 'person', 'bicycle', 'car', 'motorcycle', 'airplane', 'bus',\n",
        "    'train', 'truck', 'boat', 'traffic light', 'fire hydrant', 'N/A', 'stop sign',\n",
        "    'parking meter', 'bench', 'bird', 'cat', 'dog', 'horse', 'sheep', 'cow',\n",
        "    'elephant', 'bear', 'zebra', 'giraffe', 'N/A', 'backpack', 'umbrella', 'N/A', 'N/A',\n",
        "    'handbag', 'tie', 'suitcase', 'frisbee', 'skis', 'snowboard', 'sports ball',\n",
        "    'kite', 'baseball bat', 'baseball glove', 'skateboard', 'surfboard', 'tennis racket',\n",
        "    'bottle', 'N/A', 'wine glass', 'cup', 'fork', 'knife', 'spoon', 'bowl',\n",
        "    'banana', 'apple', 'sandwich', 'orange', 'broccoli', 'carrot', 'hot dog', 'pizza',\n",
        "    'donut', 'cake', 'chair', 'couch', 'potted plant', 'bed', 'N/A', 'dining table',\n",
        "    'N/A', 'N/A', 'toilet', 'N/A', 'tv', 'laptop', 'mouse', 'remote', 'keyboard', 'cell phone',\n",
        "    'microwave', 'oven', 'toaster', 'sink', 'refrigerator', 'N/A', 'book',\n",
        "    'clock', 'vase', 'scissors', 'teddy bear', 'hair drier', 'toothbrush'\n",
        "]\n",
        "\n",
        "# Initialize SORT tracker\n",
        "tracker = Sort()\n",
        "\n",
        "# Define the function for object detection\n",
        "def detect_objects(model, frame):\n",
        "    frame_pil = Image.fromarray(frame)\n",
        "    frame_tensor = F.to_tensor(frame_pil)\n",
        "    frame_tensor = frame_tensor.unsqueeze(0)\n",
        "    with torch.no_grad():\n",
        "        prediction = model(frame_tensor)\n",
        "    boxes = prediction[0]['boxes'].detach().cpu().numpy()\n",
        "    labels = prediction[0]['labels'].detach().cpu().numpy()\n",
        "    scores = prediction[0]['scores'].detach().cpu().numpy()\n",
        "\n",
        "    # Initialize variables for counting cars\n",
        "    car_counter = 0\n",
        "    car_boxes = []\n",
        "\n",
        "    for box, label, score in zip(boxes, labels, scores):\n",
        "        if score > 0.5 and COCO_INSTANCE_CATEGORY_NAMES[label] == 'car':\n",
        "            box = box.astype(int)\n",
        "            car_counter += 1\n",
        "            car_boxes.append(box)\n",
        "            # Visualize bounding boxes\n",
        "            cv2.rectangle(frame, (box[0], box[1]), (box[2], box[3]), (0, 255, 0), 2)\n",
        "\n",
        "    return car_counter, car_boxes\n",
        "\n",
        "# Load the video file\n",
        "video_path = 'C:/Users/aakas/Desktop/VIDEO-2024-03-16-23-08-40.mp4'\n",
        "cap = cv2.VideoCapture(video_path)\n",
        "\n",
        "if not cap.isOpened():\n",
        "    print(\"Error: Could not open video file.\")\n",
        "    exit()\n",
        "\n",
        "# Initialize variables for car counting\n",
        "car_count = 0\n",
        "\n",
        "# Loop through the video frames and perform object detection\n",
        "while cap.isOpened():\n",
        "    ret, frame = cap.read()\n",
        "    if not ret:\n",
        "        break\n",
        "\n",
        "    # Perform object detection\n",
        "    car_counter, car_boxes = detect_objects(model, frame)\n",
        "\n",
        "    # Update SORT tracker with new car detections\n",
        "    tracked_cars = tracker.update(np.array(car_boxes))\n",
        "\n",
        "    # Visualize tracked cars\n",
        "    for car in tracked_cars:\n",
        "        x1, y1, x2, y2, track_id = car.astype(int)\n",
        "        cv2.rectangle(frame, (x1, y1), (x2, y2), (0, 255, 0), 2)\n",
        "        cv2.putText(frame, str(track_id), (x1, y1), cv2.FONT_HERSHEY_SIMPLEX, 0.5, (255, 255, 255), 1)\n",
        "\n",
        "    # Update car count\n",
        "    car_count = len(tracked_cars)\n",
        "\n",
        "    # Display car count on frame\n",
        "    cv2.putText(frame, f\"Car Count: {car_count}\", (50, 50), cv2.FONT_HERSHEY_SIMPLEX, 1, (0, 0, 255), 2)\n",
        "\n",
        "    # Display the frame\n",
        "    cv2.imshow('Frame', frame)\n",
        "\n",
        "    # Exit if 'q' is pressed\n",
        "    if cv2.waitKey(25) & 0xFF == ord('q'):\n",
        "        break\n",
        "\n",
        "# Release video capture object\n",
        "cap.release()\n",
        "\n",
        "# Close OpenCV windows\n",
        "cv2.destroyAllWindows()\n",
        "\n",
        "print(f\"Total car count: {car_count}\")\n"
      ]
    },
    {
      "cell_type": "markdown",
      "id": "d5cb8b96",
      "metadata": {
        "id": "d5cb8b96"
      },
      "source": [
        "Above count was no. of cars in particular frame"
      ]
    },
    {
      "cell_type": "code",
      "execution_count": null,
      "id": "5141e66e",
      "metadata": {
        "id": "5141e66e"
      },
      "outputs": [],
      "source": []
    }
  ],
  "metadata": {
    "kernelspec": {
      "display_name": "Python 3 (ipykernel)",
      "language": "python",
      "name": "python3"
    },
    "language_info": {
      "codemirror_mode": {
        "name": "ipython",
        "version": 3
      },
      "file_extension": ".py",
      "mimetype": "text/x-python",
      "name": "python",
      "nbconvert_exporter": "python",
      "pygments_lexer": "ipython3",
      "version": "3.11.4"
    },
    "colab": {
      "provenance": []
    }
  },
  "nbformat": 4,
  "nbformat_minor": 5
}